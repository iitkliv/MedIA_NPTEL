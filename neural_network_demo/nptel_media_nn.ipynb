{
  "nbformat": 4,
  "nbformat_minor": 0,
  "metadata": {
    "colab": {
      "name": "nptel_media_nn.ipynb",
      "provenance": []
    },
    "kernelspec": {
      "name": "python3",
      "display_name": "Python 3"
    },
    "language_info": {
      "name": "python"
    }
  },
  "cells": [
    {
      "cell_type": "code",
      "execution_count": 5,
      "metadata": {
        "id": "sez1nt8q_8rN"
      },
      "outputs": [],
      "source": [
        "import torch\n",
        "import matplotlib.pyplot as plt\n",
        "import scipy.io\n",
        "import torch.nn.functional as F\n",
        "import torch.nn as nn\n",
        "import numpy as np"
      ]
    },
    {
      "cell_type": "code",
      "source": [
        "use_cuda = torch.cuda.is_available()\n",
        "print('Using PyTorch version:', torch.__version__, 'CUDA:', use_cuda)\n",
        "device = torch.device(\"cuda\" if use_cuda else \"cpu\")\n",
        "print(device)"
      ],
      "metadata": {
        "id": "9OeUFYmWbexG"
      },
      "execution_count": null,
      "outputs": []
    },
    {
      "cell_type": "code",
      "source": [
        "scipy.io.loadmat('train_data.mat')['train_data']"
      ],
      "metadata": {
        "id": "rW_0d8iLnzWI"
      },
      "execution_count": null,
      "outputs": []
    },
    {
      "cell_type": "code",
      "source": [
        "# ------------Load data---------------------------------------------\n",
        "print('Loading data..')\n",
        "# --Loading the data; Normalizing image data\n",
        "train_data = torch.div(torch.from_numpy(scipy.io.loadmat('train_data.mat')['train_data'].astype(np.float)),255) #--80% of total data; dim => [Nx3X32x32]\n",
        "train_label1 = scipy.io.loadmat('train_label.mat')['train_label'] #--dim => [Nx1]\n",
        "val_data = torch.div(torch.from_numpy(scipy.io.loadmat('val_data.mat')['val_data'].astype(np.float)),255)  #--10% of total data\n",
        "val_label1 = scipy.io.loadmat('val_label.mat')['val_label']\n",
        "test_data = torch.div(torch.from_numpy(scipy.io.loadmat('test_data.mat')['test_data'].astype(np.float)),255)  #--10% of total data\n",
        "test_label = scipy.io.loadmat('test_label.mat')['test_label']"
      ],
      "metadata": {
        "id": "hj51_bUXMG2L"
      },
      "execution_count": null,
      "outputs": []
    },
    {
      "cell_type": "code",
      "source": [
        "# ---Converting labels to 1-D tensor as ClassNLLCriterion expects the targets to be a 1-D tensor\n",
        "train_label = torch.ByteTensor(train_label1.size)\n",
        "val_label = torch.ByteTensor(val_label1.size)\n",
        "for n1 in range(0,train_label1.size):\n",
        "\ttrain_label[n1] = train_label1[n1][0]-1\n",
        "\n",
        "for n2 in range(0,val_label1.size):\n",
        "  if(val_label1[n2][0]!=0): val_label[n2] = val_label1[n2][0]-1\n",
        "  else: val_label[n2] = 0    \n",
        "    # val_label[n2]=val_label[n2]-1\n",
        "\n",
        "# train_label1 = nil\n",
        "# val_label1 = nil\n",
        "# collectgarbage()"
      ],
      "metadata": {
        "id": "4govlmh2L4oj"
      },
      "execution_count": 110,
      "outputs": []
    },
    {
      "cell_type": "code",
      "source": [
        "class LeNet(nn.Module):\n",
        "    def __init__(self):\n",
        "        super(LeNet, self).__init__()\n",
        "        self.conv1 = nn.Conv2d(3, 6, kernel_size=5)\n",
        "        self.pool1 = nn.MaxPool2d(kernel_size=2,stride=2)\n",
        "        self.conv2 = nn.Conv2d(6, 16, kernel_size=5)\n",
        "        self.pool2 = nn.MaxPool2d(kernel_size=2,stride=2)        \n",
        "        self.fc1 = nn.Linear(400, 120)\n",
        "        self.fc2 = nn.Linear(120, 84)\n",
        "        self.fc3 = nn.Linear(84, 2)\n",
        "\n",
        "    def forward(self, x):\n",
        "        x = F.relu(self.conv1(x))\n",
        "        x = self.pool1(x)\n",
        "        x = F.relu(self.conv2(x))\n",
        "        x = self.pool2(x)\n",
        "        x = x.view(-1, 400)\n",
        "        x = F.relu(self.fc1(x)) \n",
        "        x = F.relu(self.fc2(x))\n",
        "        x = self.fc3(x)\n",
        "        return F.log_softmax(x,dim=1)"
      ],
      "metadata": {
        "id": "Q1nGzqJobFaq"
      },
      "execution_count": 112,
      "outputs": []
    },
    {
      "cell_type": "code",
      "source": [
        "# ------------Load model and initialize parameters---------------------\n",
        "model = LeNet()\n",
        "print(model)\n",
        "model.to(device)\n",
        "criterion = nn.NLLLoss()\n",
        "\n",
        "LR = 0.001 #--Learning rate\n",
        "epochs = 50  #--Number of epochs\n",
        "optimizer=torch.optim.Adam(model.parameters(),lr=LR)"
      ],
      "metadata": {
        "colab": {
          "base_uri": "https://localhost:8080/"
        },
        "id": "FCZeegybZ4TX",
        "outputId": "2b8cc6b6-91d3-46e3-b19a-36099793ae4a"
      },
      "execution_count": 133,
      "outputs": [
        {
          "output_type": "stream",
          "name": "stdout",
          "text": [
            "LeNet(\n",
            "  (conv1): Conv2d(3, 6, kernel_size=(5, 5), stride=(1, 1))\n",
            "  (pool1): MaxPool2d(kernel_size=2, stride=2, padding=0, dilation=1, ceil_mode=False)\n",
            "  (conv2): Conv2d(6, 16, kernel_size=(5, 5), stride=(1, 1))\n",
            "  (pool2): MaxPool2d(kernel_size=2, stride=2, padding=0, dilation=1, ceil_mode=False)\n",
            "  (fc1): Linear(in_features=400, out_features=120, bias=True)\n",
            "  (fc2): Linear(in_features=120, out_features=84, bias=True)\n",
            "  (fc3): Linear(in_features=84, out_features=2, bias=True)\n",
            ")\n"
          ]
        }
      ]
    },
    {
      "cell_type": "code",
      "source": [
        "# ------------Train model-------------------------------------------------\n",
        "data_sz = len(train_data)\n",
        "train_err = torch.zeros(1,epochs)\n",
        "val_err = torch.zeros(1,epochs)\n",
        "for n in range(1,epochs):\t\n",
        "  print('Epoch =', n)\n",
        "  err = 0\n",
        "  for i in range(1,data_sz):\n",
        "    # -- feed data to the neural network and the criterion \n",
        "    data = train_data[i:i+1,:,:,:].to(device)\n",
        "    target = train_label[i:i+1].to(device)\n",
        "    model.train()\n",
        "    # -- train over this example in 3 steps\n",
        "    # -- (1) zero the accumulation of the gradients\n",
        "    optimizer.zero_grad()\n",
        "    output = model(data.float())\n",
        "    loss=criterion(output,target)\t  \n",
        "    # -- (2) accumulate gradients\n",
        "    loss.backward()\n",
        "    # -- (3) update parameters with a 0.01 learning rate\n",
        "    optimizer.step()\n",
        "    err_train = loss\n",
        "    err = err + err_train\n",
        "    #  -- print(err)\n",
        "    train_err[0,n] = err/data_sz\n",
        "  # ----------------Finding validation error--------------------------\n",
        "  model.eval()\n",
        "  with torch.no_grad():\n",
        "    val_output = model(val_data.to(device).float())\t\n",
        "    val_err[0,n] = criterion(val_output,val_label.to(device))"
      ],
      "metadata": {
        "colab": {
          "base_uri": "https://localhost:8080/"
        },
        "id": "k1WE_oUvbUtv",
        "outputId": "32990769-0863-4313-833a-8ee050f1e4c1"
      },
      "execution_count": 134,
      "outputs": [
        {
          "output_type": "stream",
          "name": "stdout",
          "text": [
            "Epoch = 1\n",
            "Epoch = 2\n",
            "Epoch = 3\n",
            "Epoch = 4\n",
            "Epoch = 5\n",
            "Epoch = 6\n",
            "Epoch = 7\n",
            "Epoch = 8\n",
            "Epoch = 9\n",
            "Epoch = 10\n",
            "Epoch = 11\n",
            "Epoch = 12\n",
            "Epoch = 13\n",
            "Epoch = 14\n",
            "Epoch = 15\n",
            "Epoch = 16\n",
            "Epoch = 17\n",
            "Epoch = 18\n",
            "Epoch = 19\n",
            "Epoch = 20\n",
            "Epoch = 21\n",
            "Epoch = 22\n",
            "Epoch = 23\n",
            "Epoch = 24\n",
            "Epoch = 25\n",
            "Epoch = 26\n",
            "Epoch = 27\n",
            "Epoch = 28\n",
            "Epoch = 29\n",
            "Epoch = 30\n",
            "Epoch = 31\n",
            "Epoch = 32\n",
            "Epoch = 33\n",
            "Epoch = 34\n",
            "Epoch = 35\n",
            "Epoch = 36\n",
            "Epoch = 37\n",
            "Epoch = 38\n",
            "Epoch = 39\n",
            "Epoch = 40\n",
            "Epoch = 41\n",
            "Epoch = 42\n",
            "Epoch = 43\n",
            "Epoch = 44\n",
            "Epoch = 45\n",
            "Epoch = 46\n",
            "Epoch = 47\n",
            "Epoch = 48\n",
            "Epoch = 49\n"
          ]
        }
      ]
    },
    {
      "cell_type": "code",
      "source": [
        "# ------------Plot performance------------------------------------------\n",
        "plt.plot(train_err[0].detach().cpu().numpy(), color='r', label='Training error')\n",
        "plt.plot(val_err[0].detach().cpu().numpy(), color='g', label='Validation error')\n",
        "plt.xlabel('Epoch')\n",
        "plt.ylabel('Error')\n",
        "plt.grid(True)\n",
        "plt.title('Plot of errors vs. epochs')\n",
        "plt.legend()\n",
        "plt.show()"
      ],
      "metadata": {
        "colab": {
          "base_uri": "https://localhost:8080/",
          "height": 295
        },
        "id": "vTtoALFrc6Ck",
        "outputId": "9a9c14b3-75bd-49e2-8bf7-7e383bbdf37a"
      },
      "execution_count": 135,
      "outputs": [
        {
          "output_type": "display_data",
          "data": {
            "text/plain": [
              "<Figure size 432x288 with 1 Axes>"
            ],
            "image/png": "[encoded data removed]"
          },
          "metadata": {
            "needs_background": "light"
          }
        }
      ]
    },
    {
      "cell_type": "code",
      "source": [
        "# -------------Test model------------------------------------------------\n",
        "sample_test = test_data[5:15,:,:,:].to(device).float()\n",
        "sample_label = test_label[5:15]-1\n",
        "pred = torch.exp(model(sample_test))\n",
        "pred_val,pred_class = torch.max(pred,1)\n",
        "# -------------Printing results---------------------------------------\n",
        "print('Predicted class...')\n",
        "print(pred_class.numpy()) #-- predicted class\n",
        "print('Ground truth label...')\n",
        "print(np.transpose(sample_label)[0]) #-- goundtruth class"
      ],
      "metadata": {
        "colab": {
          "base_uri": "https://localhost:8080/"
        },
        "id": "6kVcj64feZJM",
        "outputId": "eb6d10a1-747d-4745-ee50-92b08e6785b9"
      },
      "execution_count": 136,
      "outputs": [
        {
          "output_type": "stream",
          "name": "stdout",
          "text": [
            "Predicted class...\n",
            "[1 1 1 1 0 1 1 0 1 1]\n",
            "Ground truth label...\n",
            "[0 1 0 1 1 0 0 0 1 0]\n"
          ]
        }
      ]
    },
    {
      "cell_type": "code",
      "source": [
        ""
      ],
      "metadata": {
        "id": "9akuznqv0Cr0"
      },
      "execution_count": null,
      "outputs": []
    }
  ]
}